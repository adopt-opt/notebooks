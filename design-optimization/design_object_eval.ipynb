{
 "cells": [
  {
   "cell_type": "markdown",
   "source": [
    "# Objective Evaluation"
   ],
   "metadata": {
    "collapsed": false
   }
  },
  {
   "cell_type": "markdown",
   "source": [
    "## Definition of the Shape Optimization Objective"
   ],
   "metadata": {
    "collapsed": false
   }
  },
  {
   "cell_type": "code",
   "execution_count": null,
   "metadata": {
    "collapsed": true
   },
   "outputs": [],
   "source": []
  },
  {
   "cell_type": "markdown",
   "source": [
    "## Effective Evaluation of the AOT'd Simulation"
   ],
   "metadata": {
    "collapsed": false
   }
  },
  {
   "cell_type": "code",
   "execution_count": null,
   "outputs": [],
   "source": [],
   "metadata": {
    "collapsed": false,
    "pycharm": {
     "is_executing": true
    }
   }
  },
  {
   "cell_type": "markdown",
   "source": [
    "## Design Optimization"
   ],
   "metadata": {
    "collapsed": false
   }
  },
  {
   "cell_type": "markdown",
   "source": [
    "### Gradient-based Optimization"
   ],
   "metadata": {
    "collapsed": false
   }
  },
  {
   "cell_type": "code",
   "execution_count": null,
   "outputs": [],
   "source": [],
   "metadata": {
    "collapsed": false
   }
  },
  {
   "cell_type": "markdown",
   "source": [
    "### GFlow-Nets"
   ],
   "metadata": {
    "collapsed": false
   }
  },
  {
   "cell_type": "code",
   "execution_count": null,
   "outputs": [],
   "source": [],
   "metadata": {
    "collapsed": false
   }
  },
  {
   "cell_type": "code",
   "execution_count": null,
   "outputs": [],
   "source": [
    "# Dump from the gradient notebook\n",
    "input_reader = InputReader(case_dict, numerical_setup_dict)\n",
    "initializer  = Initializer(input_reader)\n",
    "sim_manager  = SimulationManager(input_reader)\n",
    "\n",
    "# PRE SHOCK CONDITIONS\n",
    "gamma_L, gamma_R = 1.4\n",
    "rho_R = p_R = 1.0\n",
    "a_R   = np.sqrt(gamma_R * p_R / rho_R)\n",
    "u_R   = 0.0\n",
    "M_R   = u_R / a_R\n",
    "\n",
    "@jax.jit\n",
    "def fun(M_S: float = 2.0):\n",
    "    traj_length = 5\n",
    "    time_step   = 1e-2\n",
    "    res = case_dict[\"nx\"]\n",
    "\n",
    "    dx = 1.0 / res\n",
    "    x_cf   = jnp.linspace(0, 1, num=res+1)\n",
    "    x_cc = 0.5 * (x_cf[1:] + x_cf[:-1])\n",
    "\n",
    "    # POST SHOCK RANKINE HUGONIOT CONDITIONS\n",
    "    p_L   = p_R * ( 1/(gamma_L + 1) * (gamma_R * (M_R - M_S)**2 + 1) + jnp.sqrt( (1/(gamma_L + 1) * (gamma_R * (M_R - M_S)**2 + 1))**2 - (gamma_L-1)/(gamma_L+1) * ((M_R-M_S)**2 * 2 * gamma_R/(gamma_R - 1) - 1) ))\n",
    "    rho_L = rho_R *  (gamma_R - 1)/(gamma_L - 1) * ( p_L / p_R + (gamma_L - 1)/ (gamma_L + 1) ) / ( p_L / p_R * (gamma_R - 1) / (gamma_L + 1) + (gamma_R + 1) / (gamma_L + 1) )\n",
    "    u_L   = a_R * ( rho_R/rho_L * (M_R - M_S) + M_S )\n",
    "\n",
    "    # INTIAL BUFFER\n",
    "    prime_init      = jnp.zeros((1, 5, res, 1, 1))\n",
    "    prime_init      = prime_init.at[0,0,:,0,0].set(jnp.where(x_cc > 0.5, rho_R, rho_L))\n",
    "    prime_init      = prime_init.at[0,1,:,0,0].set(jnp.where(x_cc > 0.5, u_R, u_L))\n",
    "    prime_init      = prime_init.at[0,4,:,0,0].set(jnp.where(x_cc > 0.5, p_R, p_L))\n",
    "    levelset_init   = None\n",
    "\n",
    "    # FORWARD SIMULATION\n",
    "    data_series, _ = sim_manager.feed_forward(\n",
    "        prime_init,\n",
    "        levelset_init,\n",
    "        traj_length,\n",
    "        time_step,\n",
    "        0.0, 1, None, None)\n",
    "    data_series = data_series[0]\n",
    "\n",
    "    # COMPUTE SCALAR OUTPUT QUANTITY\n",
    "    entropy = data_series[:,4] / data_series[:,0]**gamma_L\n",
    "    total_entropy = jnp.mean(data_series[-1,0] * entropy[-1] - data_series[0,0] * entropy[0])\n",
    "    return total_entropy"
   ],
   "metadata": {
    "collapsed": false
   }
  }
 ],
 "metadata": {
  "kernelspec": {
   "display_name": "Python 3",
   "language": "python",
   "name": "python3"
  },
  "language_info": {
   "codemirror_mode": {
    "name": "ipython",
    "version": 2
   },
   "file_extension": ".py",
   "mimetype": "text/x-python",
   "name": "python",
   "nbconvert_exporter": "python",
   "pygments_lexer": "ipython2",
   "version": "2.7.6"
  }
 },
 "nbformat": 4,
 "nbformat_minor": 0
}
