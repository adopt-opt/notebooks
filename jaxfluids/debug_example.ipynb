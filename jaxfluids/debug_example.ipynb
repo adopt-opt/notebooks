{
 "cells": [
  {
   "cell_type": "markdown",
   "source": [
    "# Working with Jaxfluids\n",
    "\n",
    "(Introductory) notebook on working with [Jaxfluids](https://github.com/adopt-opt/jaxfluids) in the context of design optimization. For installation instructions of the underlying JAX package, please see their [GitHub repository](https://github.com/google/jax)."
   ],
   "metadata": {
    "collapsed": false
   }
  },
  {
   "cell_type": "markdown",
   "source": [
    "## Manipulation of JSON\n",
    "\n",
    "For the manipulation of the JSON files we want to use [PyJSON](https://github.com/niyoh120/pyjson), with which we can then alter the entries of our JSON files."
   ],
   "metadata": {
    "collapsed": false
   }
  },
  {
   "cell_type": "code",
   "execution_count": 4,
   "outputs": [],
   "source": [
    "import json"
   ],
   "metadata": {
    "collapsed": false
   }
  },
  {
   "cell_type": "markdown",
   "source": [
    "Storing the path to our two most important JSON files into variables"
   ],
   "metadata": {
    "collapsed": false
   }
  },
  {
   "cell_type": "code",
   "execution_count": 27,
   "outputs": [],
   "source": [
    "case_setup = './cylinderflow.json'\n",
    "num_setup = './numerical_setup.json'"
   ],
   "metadata": {
    "collapsed": false
   }
  },
  {
   "cell_type": "markdown",
   "source": [
    "Altering the JSON file"
   ],
   "metadata": {
    "collapsed": false
   }
  },
  {
   "cell_type": "code",
   "execution_count": 26,
   "outputs": [],
   "source": [
    "jsonFile = open(case_setup, \"r\") # Open the JSON file for reading\n",
    "setup = json.load(jsonFile) # Read the JSON into the buffer\n",
    "jsonFile.close() # Close the JSON file\n",
    "\n",
    "## Working with buffered content\n",
    "setup[\"domain\"][\"x\"][\"cells\"] = 75\n",
    "setup[\"domain\"][\"x\"][\"range\"] = [-2, 4]\n",
    "setup[\"domain\"][\"y\"][\"cells\"] = 50\n",
    "setup[\"domain\"][\"y\"][\"range\"] = [-2, 2]\n",
    "\n",
    "## Save our changes to JSON file\n",
    "jsonFile = open(case_setup, \"w+\")\n",
    "jsonFile.write(json.dumps(setup))\n",
    "jsonFile.close()"
   ],
   "metadata": {
    "collapsed": false
   }
  },
  {
   "cell_type": "markdown",
   "source": [
    "The same approach can be replicated for other tasks such as changing the lambda function determining the shape of the body inside of the domain for design optimization purposes\n",
    "\n",
    "```json\n",
    "{\n",
    "\"initial_condition\": {\n",
    "        \"primes\":{\n",
    "            \"rho\": 1.0,\n",
    "            \"u\": 0.0,\n",
    "            \"v\": 0.0,\n",
    "            \"w\": 0.0,\n",
    "            \"p\": 1.0\n",
    "        },\n",
    "        \"levelset\": \"lambda x,y: - 0.1 + jnp.sqrt(x**2 + y**2)\"\n",
    "    }\n",
    "}\n",
    "```"
   ],
   "metadata": {
    "collapsed": false
   }
  },
  {
   "cell_type": "markdown",
   "source": [
    "## Ahead-of-Time (AOT) Compilation with JAX\n",
    "\n"
   ],
   "metadata": {
    "collapsed": false
   }
  },
  {
   "cell_type": "code",
   "execution_count": 37,
   "outputs": [],
   "source": [
    "import jax  # JIT & AOT Compilation\n",
    "import jax.numpy as jnp\n",
    "\n",
    "from jaxfluids import InputReader, SimulationManager"
   ],
   "metadata": {
    "collapsed": false
   }
  },
  {
   "cell_type": "markdown",
   "source": [
    "Setting up the simulation"
   ],
   "metadata": {
    "collapsed": false
   }
  },
  {
   "cell_type": "code",
   "execution_count": 39,
   "outputs": [],
   "source": [
    "input_reader = InputReader(\"cylinderflow.json\", \"numerical_setup.json\")\n",
    "sim_manager  = SimulationManager(input_reader)"
   ],
   "metadata": {
    "collapsed": false
   }
  },
  {
   "cell_type": "code",
   "execution_count": 40,
   "outputs": [],
   "source": [
    "case_dict = json.load(open(\"cylinderflow.json\"))\n",
    "numerical_setup_dict = json.load(open(\"numerical_setup.json\"))"
   ],
   "metadata": {
    "collapsed": false
   }
  },
  {
   "cell_type": "markdown",
   "source": [
    "We now seek to ahead-of-time (AOT) compile the simulation, and hence save us from the burden of repeatedly compiling the simulation for that we use a helper function, which allows us to template the setup, an approach which we can copy to get the desired gradients for design optimization as well. As we are missing the usual initialization steps, this has to be done inside of the function, and the cell. I.e. we are missing\n",
    "\n",
    "```python\n",
    "initializer = Initializer(input_reader)\n",
    "buffer_dictionary = initializer.initialization()\n",
    "```\n",
    "\n",
    "plus we are replacing the actual simulation step with only the forward step, and are hence not utilizing\n",
    "\n",
    "```python\n",
    "sim_manager.simulate(buffer_dictionary)\n",
    "```"
   ],
   "metadata": {
    "collapsed": false
   }
  },
  {
   "cell_type": "code",
   "execution_count": 49,
   "outputs": [
    {
     "data": {
      "text/plain": "{'x': {'cells': 300, 'range': [-0.3, 1.7]},\n 'y': {'cells': 150, 'range': [-0.5, 0.5]},\n 'z': {'cells': 1, 'range': [0.0, 1.0]}}"
     },
     "execution_count": 49,
     "metadata": {},
     "output_type": "execute_result"
    }
   ],
   "source": [
    "case_dict[\"domain\"]"
   ],
   "metadata": {
    "collapsed": false
   }
  },
  {
   "cell_type": "code",
   "execution_count": 50,
   "outputs": [],
   "source": [
    "# Material properties\n",
    "gamma = 1.4\n",
    "\n",
    "# Hyperparameters\n",
    "#traj_length = 5\n",
    "time_step   = 1e-2\n",
    "\n",
    "# Initialization of the domain information\n",
    "dim = input_reader.dim\n",
    "nx = case_dict[\"domain\"][\"x\"][\"cells\"]\n",
    "ny = case_dict[\"domain\"][\"y\"][\"cells\"]\n",
    "nz = case_dict[\"domain\"][\"z\"][\"cells\"]\n",
    "nh_conservatives = numerical_setup_dict[\"conservatives\"][\"halo_cells\"]"
   ],
   "metadata": {
    "collapsed": false
   }
  },
  {
   "cell_type": "code",
   "execution_count": 57,
   "outputs": [],
   "source": [
    "def wrapper_fun(traj_length):\n",
    "\n",
    "    # Initialization of the buffers\n",
    "    prime_init = jnp.ones(\n",
    "        (\n",
    "            5,\n",
    "            1,\n",
    "            nx + 2 * nh_conservatives if nx > 1 else nx,\n",
    "            ny + 2 * nh_conservatives if ny > 1 else ny,\n",
    "            nz + 2 * nh_conservatives if nz > 1 else nz,\n",
    "        )\n",
    "    )\n",
    "    levelset_init = None\n",
    "\n",
    "    # Forward Simulation\n",
    "    data_series, _ = sim_manager.feed_forward(\n",
    "        prime_init,\n",
    "        levelset_init,\n",
    "        traj_length,\n",
    "        time_step,\n",
    "        0.0, 1, None, None)\n",
    "    data_series = data_series[0]\n",
    "\n",
    "    # Compute Scalar Output Quantities\n",
    "    entropy = data_series[:,4] / data_series[:,0]**gamma\n",
    "    total_entropy = jnp.mean(data_series[-1,0] * entropy[-1] - data_series[0,0] * entropy[0])\n",
    "    return total_entropy"
   ],
   "metadata": {
    "collapsed": false
   }
  },
  {
   "cell_type": "code",
   "execution_count": 58,
   "outputs": [
    {
     "ename": "ValueError",
     "evalue": "Incompatible shapes for broadcasting: (1, 310, 160, 1) and requested shape (5, 300, 150, 1)",
     "output_type": "error",
     "traceback": [
      "\u001B[0;31m---------------------------------------------------------------------------\u001B[0m",
      "\u001B[0;31mValueError\u001B[0m                                Traceback (most recent call last)",
      "Cell \u001B[0;32mIn[58], line 2\u001B[0m\n\u001B[1;32m      1\u001B[0m \u001B[38;5;66;03m# Lower the function to its IR representation\u001B[39;00m\n\u001B[0;32m----> 2\u001B[0m lowered_wrapper \u001B[38;5;241m=\u001B[39m \u001B[43mjax\u001B[49m\u001B[38;5;241;43m.\u001B[39;49m\u001B[43mjit\u001B[49m\u001B[43m(\u001B[49m\u001B[43mwrapper_fun\u001B[49m\u001B[43m)\u001B[49m\u001B[38;5;241;43m.\u001B[39;49m\u001B[43mlower\u001B[49m\u001B[43m(\u001B[49m\u001B[43mtraj_length\u001B[49m\u001B[38;5;241;43m=\u001B[39;49m\u001B[38;5;241;43m5\u001B[39;49m\u001B[43m)\u001B[49m\n\u001B[1;32m      3\u001B[0m \u001B[38;5;66;03m#lowered_gradient?\u001B[39;00m\n\u001B[1;32m      4\u001B[0m \n\u001B[1;32m      5\u001B[0m \u001B[38;5;66;03m# Compile the function itself\u001B[39;00m\n\u001B[1;32m      6\u001B[0m compiled_wrapper \u001B[38;5;241m=\u001B[39m lowered_wrapper\u001B[38;5;241m.\u001B[39mcompile()\n",
      "    \u001B[0;31m[... skipping hidden 11 frame]\u001B[0m\n",
      "Cell \u001B[0;32mIn[57], line 16\u001B[0m, in \u001B[0;36mwrapper_fun\u001B[0;34m(traj_length)\u001B[0m\n\u001B[1;32m     13\u001B[0m levelset_init \u001B[38;5;241m=\u001B[39m \u001B[38;5;28;01mNone\u001B[39;00m\n\u001B[1;32m     15\u001B[0m \u001B[38;5;66;03m# Forward Simulation\u001B[39;00m\n\u001B[0;32m---> 16\u001B[0m data_series, _ \u001B[38;5;241m=\u001B[39m \u001B[43msim_manager\u001B[49m\u001B[38;5;241;43m.\u001B[39;49m\u001B[43mfeed_forward\u001B[49m\u001B[43m(\u001B[49m\n\u001B[1;32m     17\u001B[0m \u001B[43m    \u001B[49m\u001B[43mprime_init\u001B[49m\u001B[43m,\u001B[49m\n\u001B[1;32m     18\u001B[0m \u001B[43m    \u001B[49m\u001B[43mlevelset_init\u001B[49m\u001B[43m,\u001B[49m\n\u001B[1;32m     19\u001B[0m \u001B[43m    \u001B[49m\u001B[43mtraj_length\u001B[49m\u001B[43m,\u001B[49m\n\u001B[1;32m     20\u001B[0m \u001B[43m    \u001B[49m\u001B[43mtime_step\u001B[49m\u001B[43m,\u001B[49m\n\u001B[1;32m     21\u001B[0m \u001B[43m    \u001B[49m\u001B[38;5;241;43m0.0\u001B[39;49m\u001B[43m,\u001B[49m\u001B[43m \u001B[49m\u001B[38;5;241;43m1\u001B[39;49m\u001B[43m,\u001B[49m\u001B[43m \u001B[49m\u001B[38;5;28;43;01mNone\u001B[39;49;00m\u001B[43m,\u001B[49m\u001B[43m \u001B[49m\u001B[38;5;28;43;01mNone\u001B[39;49;00m\u001B[43m)\u001B[49m\n\u001B[1;32m     22\u001B[0m data_series \u001B[38;5;241m=\u001B[39m data_series[\u001B[38;5;241m0\u001B[39m]\n\u001B[1;32m     24\u001B[0m \u001B[38;5;66;03m# Compute Scalar Output Quantities\u001B[39;00m\n",
      "File \u001B[0;32m~/miniconda3/envs/adopt-env/lib/python3.10/site-packages/jaxfluids/simulation_manager.py:869\u001B[0m, in \u001B[0;36mSimulationManager.feed_forward\u001B[0;34m(self, batch_primes_init, batch_levelset_init, n_steps, timestep_size, t_start, output_freq, ml_parameters_dict, ml_networks_dict)\u001B[0m\n\u001B[1;32m    836\u001B[0m \u001B[38;5;28;01mdef\u001B[39;00m \u001B[38;5;21mfeed_forward\u001B[39m(\n\u001B[1;32m    837\u001B[0m     \u001B[38;5;28mself\u001B[39m,\n\u001B[1;32m    838\u001B[0m     batch_primes_init: jnp\u001B[38;5;241m.\u001B[39mDeviceArray,\n\u001B[0;32m   (...)\u001B[0m\n\u001B[1;32m    845\u001B[0m     ml_networks_dict: Union[Dict, \u001B[38;5;28;01mNone\u001B[39;00m] \u001B[38;5;241m=\u001B[39m \u001B[38;5;28;01mNone\u001B[39;00m,\n\u001B[1;32m    846\u001B[0m ) \u001B[38;5;241m-\u001B[39m\u001B[38;5;241m>\u001B[39m Tuple[jnp\u001B[38;5;241m.\u001B[39mDeviceArray, jnp\u001B[38;5;241m.\u001B[39mDeviceArray]:\n\u001B[1;32m    847\u001B[0m \u001B[38;5;250m    \u001B[39m\u001B[38;5;124;03m\"\"\"Vectorized version of the _feed_forward() method.\u001B[39;00m\n\u001B[1;32m    848\u001B[0m \n\u001B[1;32m    849\u001B[0m \u001B[38;5;124;03m    :param batch_primes_init: batch of initial primitive variable buffers\u001B[39;00m\n\u001B[0;32m   (...)\u001B[0m\n\u001B[1;32m    866\u001B[0m \u001B[38;5;124;03m    :rtype: Tuple[jnp.DeviceArray, jnp.DeviceArray]\u001B[39;00m\n\u001B[1;32m    867\u001B[0m \u001B[38;5;124;03m    \"\"\"\u001B[39;00m\n\u001B[0;32m--> 869\u001B[0m     \u001B[38;5;28;01mreturn\u001B[39;00m \u001B[43mjax\u001B[49m\u001B[38;5;241;43m.\u001B[39;49m\u001B[43mvmap\u001B[49m\u001B[43m(\u001B[49m\n\u001B[1;32m    870\u001B[0m \u001B[43m        \u001B[49m\u001B[38;5;28;43mself\u001B[39;49m\u001B[38;5;241;43m.\u001B[39;49m\u001B[43m_feed_forward\u001B[49m\u001B[43m,\u001B[49m\n\u001B[1;32m    871\u001B[0m \u001B[43m        \u001B[49m\u001B[43min_axes\u001B[49m\u001B[38;5;241;43m=\u001B[39;49m\u001B[43m(\u001B[49m\u001B[38;5;241;43m0\u001B[39;49m\u001B[43m,\u001B[49m\u001B[43m \u001B[49m\u001B[38;5;241;43m0\u001B[39;49m\u001B[43m,\u001B[49m\u001B[43m \u001B[49m\u001B[38;5;28;43;01mNone\u001B[39;49;00m\u001B[43m,\u001B[49m\u001B[43m \u001B[49m\u001B[38;5;28;43;01mNone\u001B[39;49;00m\u001B[43m,\u001B[49m\u001B[43m \u001B[49m\u001B[38;5;28;43;01mNone\u001B[39;49;00m\u001B[43m,\u001B[49m\u001B[43m \u001B[49m\u001B[38;5;28;43;01mNone\u001B[39;49;00m\u001B[43m,\u001B[49m\u001B[43m \u001B[49m\u001B[38;5;28;43;01mNone\u001B[39;49;00m\u001B[43m,\u001B[49m\u001B[43m \u001B[49m\u001B[38;5;28;43;01mNone\u001B[39;49;00m\u001B[43m)\u001B[49m\u001B[43m,\u001B[49m\n\u001B[1;32m    872\u001B[0m \u001B[43m        \u001B[49m\u001B[43mout_axes\u001B[49m\u001B[38;5;241;43m=\u001B[39;49m\u001B[43m(\u001B[49m\n\u001B[1;32m    873\u001B[0m \u001B[43m            \u001B[49m\u001B[38;5;241;43m0\u001B[39;49m\u001B[43m,\u001B[49m\n\u001B[1;32m    874\u001B[0m \u001B[43m            \u001B[49m\u001B[38;5;241;43m0\u001B[39;49m\u001B[43m,\u001B[49m\n\u001B[1;32m    875\u001B[0m \u001B[43m        \u001B[49m\u001B[43m)\u001B[49m\u001B[43m,\u001B[49m\n\u001B[1;32m    876\u001B[0m \u001B[43m    \u001B[49m\u001B[43m)\u001B[49m\u001B[43m(\u001B[49m\n\u001B[1;32m    877\u001B[0m \u001B[43m        \u001B[49m\u001B[43mbatch_primes_init\u001B[49m\u001B[43m,\u001B[49m\n\u001B[1;32m    878\u001B[0m \u001B[43m        \u001B[49m\u001B[43mbatch_levelset_init\u001B[49m\u001B[43m,\u001B[49m\n\u001B[1;32m    879\u001B[0m \u001B[43m        \u001B[49m\u001B[43mn_steps\u001B[49m\u001B[43m,\u001B[49m\n\u001B[1;32m    880\u001B[0m \u001B[43m        \u001B[49m\u001B[43mtimestep_size\u001B[49m\u001B[43m,\u001B[49m\n\u001B[1;32m    881\u001B[0m \u001B[43m        \u001B[49m\u001B[43mt_start\u001B[49m\u001B[43m,\u001B[49m\n\u001B[1;32m    882\u001B[0m \u001B[43m        \u001B[49m\u001B[43moutput_freq\u001B[49m\u001B[43m,\u001B[49m\n\u001B[1;32m    883\u001B[0m \u001B[43m        \u001B[49m\u001B[43mml_parameters_dict\u001B[49m\u001B[43m,\u001B[49m\n\u001B[1;32m    884\u001B[0m \u001B[43m        \u001B[49m\u001B[43mml_networks_dict\u001B[49m\u001B[43m,\u001B[49m\n\u001B[1;32m    885\u001B[0m \u001B[43m    \u001B[49m\u001B[43m)\u001B[49m\n",
      "    \u001B[0;31m[... skipping hidden 3 frame]\u001B[0m\n",
      "File \u001B[0;32m~/miniconda3/envs/adopt-env/lib/python3.10/site-packages/jaxfluids/simulation_manager.py:733\u001B[0m, in \u001B[0;36mSimulationManager._feed_forward\u001B[0;34m(self, primes_init, levelset_init, n_steps, timestep_size, t_start, output_freq, ml_parameters_dict, ml_networks_dict)\u001B[0m\n\u001B[1;32m    730\u001B[0m     levelset \u001B[38;5;241m=\u001B[39m \u001B[38;5;28;01mNone\u001B[39;00m\n\u001B[1;32m    732\u001B[0m \u001B[38;5;66;03m# PRIME & LEVELSET BUFFER\u001B[39;00m\n\u001B[0;32m--> 733\u001B[0m primes \u001B[38;5;241m=\u001B[39m \u001B[43mprimes\u001B[49m\u001B[38;5;241;43m.\u001B[39;49m\u001B[43mat\u001B[49m\u001B[43m[\u001B[49m\u001B[38;5;241;43m.\u001B[39;49m\u001B[38;5;241;43m.\u001B[39;49m\u001B[38;5;241;43m.\u001B[39;49m\u001B[43m,\u001B[49m\u001B[43m \u001B[49m\u001B[43mnhx\u001B[49m\u001B[43m,\u001B[49m\u001B[43m \u001B[49m\u001B[43mnhy\u001B[49m\u001B[43m,\u001B[49m\u001B[43m \u001B[49m\u001B[43mnhz\u001B[49m\u001B[43m]\u001B[49m\u001B[38;5;241;43m.\u001B[39;49m\u001B[43mset\u001B[49m\u001B[43m(\u001B[49m\u001B[43mprimes_init\u001B[49m\u001B[43m)\u001B[49m\n\u001B[1;32m    734\u001B[0m \u001B[38;5;28;01mif\u001B[39;00m \u001B[38;5;28mself\u001B[39m\u001B[38;5;241m.\u001B[39minput_reader\u001B[38;5;241m.\u001B[39mlevelset_type \u001B[38;5;241m==\u001B[39m \u001B[38;5;124m\"\u001B[39m\u001B[38;5;124mFLUID-FLUID\u001B[39m\u001B[38;5;124m\"\u001B[39m:\n\u001B[1;32m    735\u001B[0m     levelset \u001B[38;5;241m=\u001B[39m levelset\u001B[38;5;241m.\u001B[39mat[nhx, nhy, nhz]\u001B[38;5;241m.\u001B[39mset(levelset_init)\n",
      "File \u001B[0;32m~/miniconda3/envs/adopt-env/lib/python3.10/site-packages/jax/_src/numpy/array_methods.py:478\u001B[0m, in \u001B[0;36mallow_pass_by_position_with_warning.<locals>.wrapped\u001B[0;34m(*args, **kwargs)\u001B[0m\n\u001B[1;32m    476\u001B[0m   \u001B[38;5;28;01mreturn\u001B[39;00m f(\u001B[38;5;241m*\u001B[39margs[:n_positional], \u001B[38;5;241m*\u001B[39m\u001B[38;5;241m*\u001B[39mconverted_kwargs, \u001B[38;5;241m*\u001B[39m\u001B[38;5;241m*\u001B[39mkwargs)\n\u001B[1;32m    477\u001B[0m \u001B[38;5;28;01melse\u001B[39;00m:\n\u001B[0;32m--> 478\u001B[0m   \u001B[38;5;28;01mreturn\u001B[39;00m \u001B[43mf\u001B[49m\u001B[43m(\u001B[49m\u001B[38;5;241;43m*\u001B[39;49m\u001B[43margs\u001B[49m\u001B[43m,\u001B[49m\u001B[43m \u001B[49m\u001B[38;5;241;43m*\u001B[39;49m\u001B[38;5;241;43m*\u001B[39;49m\u001B[43mkwargs\u001B[49m\u001B[43m)\u001B[49m\n",
      "File \u001B[0;32m~/miniconda3/envs/adopt-env/lib/python3.10/site-packages/jax/_src/numpy/array_methods.py:525\u001B[0m, in \u001B[0;36m_IndexUpdateRef.set\u001B[0;34m(self, values, indices_are_sorted, unique_indices, mode)\u001B[0m\n\u001B[1;32m    515\u001B[0m \u001B[38;5;129m@allow_pass_by_position_with_warning\u001B[39m\n\u001B[1;32m    516\u001B[0m \u001B[38;5;28;01mdef\u001B[39;00m \u001B[38;5;21mset\u001B[39m(\u001B[38;5;28mself\u001B[39m, values, \u001B[38;5;241m*\u001B[39m, indices_are_sorted\u001B[38;5;241m=\u001B[39m\u001B[38;5;28;01mFalse\u001B[39;00m, unique_indices\u001B[38;5;241m=\u001B[39m\u001B[38;5;28;01mFalse\u001B[39;00m,\n\u001B[1;32m    517\u001B[0m         mode\u001B[38;5;241m=\u001B[39m\u001B[38;5;28;01mNone\u001B[39;00m):\n\u001B[1;32m    518\u001B[0m \u001B[38;5;250m  \u001B[39m\u001B[38;5;124;03m\"\"\"Pure equivalent of ``x[idx] = y``.\u001B[39;00m\n\u001B[1;32m    519\u001B[0m \n\u001B[1;32m    520\u001B[0m \u001B[38;5;124;03m  Returns the value of ``x`` that would result from the NumPy-style\u001B[39;00m\n\u001B[0;32m   (...)\u001B[0m\n\u001B[1;32m    523\u001B[0m \u001B[38;5;124;03m  See :mod:`jax.ops` for details.\u001B[39;00m\n\u001B[1;32m    524\u001B[0m \u001B[38;5;124;03m  \"\"\"\u001B[39;00m\n\u001B[0;32m--> 525\u001B[0m   \u001B[38;5;28;01mreturn\u001B[39;00m \u001B[43mscatter\u001B[49m\u001B[38;5;241;43m.\u001B[39;49m\u001B[43m_scatter_update\u001B[49m\u001B[43m(\u001B[49m\u001B[38;5;28;43mself\u001B[39;49m\u001B[38;5;241;43m.\u001B[39;49m\u001B[43marray\u001B[49m\u001B[43m,\u001B[49m\u001B[43m \u001B[49m\u001B[38;5;28;43mself\u001B[39;49m\u001B[38;5;241;43m.\u001B[39;49m\u001B[43mindex\u001B[49m\u001B[43m,\u001B[49m\u001B[43m \u001B[49m\u001B[43mvalues\u001B[49m\u001B[43m,\u001B[49m\u001B[43m \u001B[49m\u001B[43mlax\u001B[49m\u001B[38;5;241;43m.\u001B[39;49m\u001B[43mscatter\u001B[49m\u001B[43m,\u001B[49m\n\u001B[1;32m    526\u001B[0m \u001B[43m                                 \u001B[49m\u001B[43mindices_are_sorted\u001B[49m\u001B[38;5;241;43m=\u001B[39;49m\u001B[43mindices_are_sorted\u001B[49m\u001B[43m,\u001B[49m\n\u001B[1;32m    527\u001B[0m \u001B[43m                                 \u001B[49m\u001B[43munique_indices\u001B[49m\u001B[38;5;241;43m=\u001B[39;49m\u001B[43munique_indices\u001B[49m\u001B[43m,\u001B[49m\u001B[43m \u001B[49m\u001B[43mmode\u001B[49m\u001B[38;5;241;43m=\u001B[39;49m\u001B[43mmode\u001B[49m\u001B[43m)\u001B[49m\n",
      "File \u001B[0;32m~/miniconda3/envs/adopt-env/lib/python3.10/site-packages/jax/_src/ops/scatter.py:73\u001B[0m, in \u001B[0;36m_scatter_update\u001B[0;34m(x, idx, y, scatter_op, indices_are_sorted, unique_indices, mode, normalize_indices)\u001B[0m\n\u001B[1;32m     70\u001B[0m \u001B[38;5;66;03m# XLA gathers and scatters are very similar in structure; the scatter logic\u001B[39;00m\n\u001B[1;32m     71\u001B[0m \u001B[38;5;66;03m# is more or less a transpose of the gather equivalent.\u001B[39;00m\n\u001B[1;32m     72\u001B[0m treedef, static_idx, dynamic_idx \u001B[38;5;241m=\u001B[39m jnp\u001B[38;5;241m.\u001B[39m_split_index_for_jit(idx, x\u001B[38;5;241m.\u001B[39mshape)\n\u001B[0;32m---> 73\u001B[0m \u001B[38;5;28;01mreturn\u001B[39;00m \u001B[43m_scatter_impl\u001B[49m\u001B[43m(\u001B[49m\u001B[43mx\u001B[49m\u001B[43m,\u001B[49m\u001B[43m \u001B[49m\u001B[43my\u001B[49m\u001B[43m,\u001B[49m\u001B[43m \u001B[49m\u001B[43mscatter_op\u001B[49m\u001B[43m,\u001B[49m\u001B[43m \u001B[49m\u001B[43mtreedef\u001B[49m\u001B[43m,\u001B[49m\u001B[43m \u001B[49m\u001B[43mstatic_idx\u001B[49m\u001B[43m,\u001B[49m\u001B[43m \u001B[49m\u001B[43mdynamic_idx\u001B[49m\u001B[43m,\u001B[49m\n\u001B[1;32m     74\u001B[0m \u001B[43m                     \u001B[49m\u001B[43mindices_are_sorted\u001B[49m\u001B[43m,\u001B[49m\u001B[43m \u001B[49m\u001B[43munique_indices\u001B[49m\u001B[43m,\u001B[49m\u001B[43m \u001B[49m\u001B[43mmode\u001B[49m\u001B[43m,\u001B[49m\n\u001B[1;32m     75\u001B[0m \u001B[43m                     \u001B[49m\u001B[43mnormalize_indices\u001B[49m\u001B[43m)\u001B[49m\n",
      "File \u001B[0;32m~/miniconda3/envs/adopt-env/lib/python3.10/site-packages/jax/_src/ops/scatter.py:106\u001B[0m, in \u001B[0;36m_scatter_impl\u001B[0;34m(x, y, scatter_op, treedef, static_idx, dynamic_idx, indices_are_sorted, unique_indices, mode, normalize_indices)\u001B[0m\n\u001B[1;32m    103\u001B[0m x, y \u001B[38;5;241m=\u001B[39m promote_dtypes(x, y)\n\u001B[1;32m    105\u001B[0m \u001B[38;5;66;03m# Broadcast `y` to the slice output shape.\u001B[39;00m\n\u001B[0;32m--> 106\u001B[0m y \u001B[38;5;241m=\u001B[39m \u001B[43mjnp\u001B[49m\u001B[38;5;241;43m.\u001B[39;49m\u001B[43mbroadcast_to\u001B[49m\u001B[43m(\u001B[49m\u001B[43my\u001B[49m\u001B[43m,\u001B[49m\u001B[43m \u001B[49m\u001B[38;5;28;43mtuple\u001B[39;49m\u001B[43m(\u001B[49m\u001B[43mindexer\u001B[49m\u001B[38;5;241;43m.\u001B[39;49m\u001B[43mslice_shape\u001B[49m\u001B[43m)\u001B[49m\u001B[43m)\u001B[49m\n\u001B[1;32m    107\u001B[0m \u001B[38;5;66;03m# Collapse any `None`/`jnp.newaxis` dimensions.\u001B[39;00m\n\u001B[1;32m    108\u001B[0m y \u001B[38;5;241m=\u001B[39m jnp\u001B[38;5;241m.\u001B[39msqueeze(y, axis\u001B[38;5;241m=\u001B[39mindexer\u001B[38;5;241m.\u001B[39mnewaxis_dims)\n",
      "File \u001B[0;32m~/miniconda3/envs/adopt-env/lib/python3.10/site-packages/jax/_src/numpy/lax_numpy.py:1117\u001B[0m, in \u001B[0;36mbroadcast_to\u001B[0;34m(array, shape)\u001B[0m\n\u001B[1;32m   1113\u001B[0m \u001B[38;5;129m@util\u001B[39m\u001B[38;5;241m.\u001B[39m_wraps(np\u001B[38;5;241m.\u001B[39mbroadcast_to, lax_description\u001B[38;5;241m=\u001B[39m\u001B[38;5;124m\"\"\"\u001B[39m\u001B[38;5;130;01m\\\u001B[39;00m\n\u001B[1;32m   1114\u001B[0m \u001B[38;5;124mThe JAX version does not necessarily return a view of the input.\u001B[39m\n\u001B[1;32m   1115\u001B[0m \u001B[38;5;124m\"\"\"\u001B[39m)\n\u001B[1;32m   1116\u001B[0m \u001B[38;5;28;01mdef\u001B[39;00m \u001B[38;5;21mbroadcast_to\u001B[39m(array: ArrayLike, shape: Shape) \u001B[38;5;241m-\u001B[39m\u001B[38;5;241m>\u001B[39m Array:\n\u001B[0;32m-> 1117\u001B[0m   \u001B[38;5;28;01mreturn\u001B[39;00m \u001B[43mutil\u001B[49m\u001B[38;5;241;43m.\u001B[39;49m\u001B[43m_broadcast_to\u001B[49m\u001B[43m(\u001B[49m\u001B[43marray\u001B[49m\u001B[43m,\u001B[49m\u001B[43m \u001B[49m\u001B[43mshape\u001B[49m\u001B[43m)\u001B[49m\n",
      "File \u001B[0;32m~/miniconda3/envs/adopt-env/lib/python3.10/site-packages/jax/_src/numpy/util.py:418\u001B[0m, in \u001B[0;36m_broadcast_to\u001B[0;34m(arr, shape)\u001B[0m\n\u001B[1;32m    416\u001B[0m \u001B[38;5;28;01mif\u001B[39;00m nlead \u001B[38;5;241m<\u001B[39m \u001B[38;5;241m0\u001B[39m \u001B[38;5;129;01mor\u001B[39;00m \u001B[38;5;129;01mnot\u001B[39;00m compatible:\n\u001B[1;32m    417\u001B[0m   msg \u001B[38;5;241m=\u001B[39m \u001B[38;5;124m\"\u001B[39m\u001B[38;5;124mIncompatible shapes for broadcasting: \u001B[39m\u001B[38;5;132;01m{}\u001B[39;00m\u001B[38;5;124m and requested shape \u001B[39m\u001B[38;5;132;01m{}\u001B[39;00m\u001B[38;5;124m\"\u001B[39m\n\u001B[0;32m--> 418\u001B[0m   \u001B[38;5;28;01mraise\u001B[39;00m \u001B[38;5;167;01mValueError\u001B[39;00m(msg\u001B[38;5;241m.\u001B[39mformat(arr_shape, shape))\n\u001B[1;32m    419\u001B[0m diff, \u001B[38;5;241m=\u001B[39m np\u001B[38;5;241m.\u001B[39mwhere(\u001B[38;5;28mtuple\u001B[39m(\u001B[38;5;129;01mnot\u001B[39;00m core\u001B[38;5;241m.\u001B[39msymbolic_equal_dim(arr_d, shape_d)\n\u001B[1;32m    420\u001B[0m                        \u001B[38;5;28;01mfor\u001B[39;00m arr_d, shape_d \u001B[38;5;129;01min\u001B[39;00m safe_zip(arr_shape, shape_tail)))\n\u001B[1;32m    421\u001B[0m new_dims \u001B[38;5;241m=\u001B[39m \u001B[38;5;28mtuple\u001B[39m(\u001B[38;5;28mrange\u001B[39m(nlead)) \u001B[38;5;241m+\u001B[39m \u001B[38;5;28mtuple\u001B[39m(nlead \u001B[38;5;241m+\u001B[39m diff)\n",
      "\u001B[0;31mValueError\u001B[0m: Incompatible shapes for broadcasting: (1, 310, 160, 1) and requested shape (5, 300, 150, 1)"
     ]
    }
   ],
   "source": [
    "# Lower the function to its IR representation\n",
    "lowered_wrapper = jax.jit(wrapper_fun).lower(traj_length=5)\n",
    "#lowered_gradient?\n",
    "\n",
    "# Compile the function itself\n",
    "compiled_wrapper = lowered_wrapper.compile()"
   ],
   "metadata": {
    "collapsed": false
   }
  },
  {
   "cell_type": "markdown",
   "source": [
    "After which we can call our ahead-of-time compiled wrapper function with its arguments\n",
    "\n",
    "* Can I just compile a specialized kernel which computes the gradient, and which I can then bombard with configurations?\n"
   ],
   "metadata": {
    "collapsed": false
   }
  },
  {
   "cell_type": "code",
   "execution_count": null,
   "outputs": [],
   "source": [
    "compiled_wrapper(inputs) # derives its args from the specialized wrapper function from above."
   ],
   "metadata": {
    "collapsed": false
   }
  },
  {
   "cell_type": "markdown",
   "source": [
    "## Batch Evaluation with AOT'd wrapper\n",
    "\n",
    "We can now generate a large batch of potential inputs, and just vmap over the entire input_axis. As we have ahead-of-time compiler the function evaluation, we will save a very large swathe of computation due to not having to recompile, fully reevaluate every single execution"
   ],
   "metadata": {
    "collapsed": false
   }
  },
  {
   "cell_type": "code",
   "execution_count": null,
   "outputs": [],
   "source": [
    "# Batch execution to go here"
   ],
   "metadata": {
    "collapsed": false
   }
  },
  {
   "cell_type": "markdown",
   "source": [
    "To quantify the computational savings we achieve from this we can now evaluate this with varying batch-size (vector lengths), and see just how much faster we can get while cramming the entire computation onto the GPU."
   ],
   "metadata": {
    "collapsed": false
   }
  },
  {
   "cell_type": "code",
   "execution_count": null,
   "outputs": [],
   "source": [
    "# Plotting code which takes the above cell as a function, evaluates it for different batch sizes, and then plots them"
   ],
   "metadata": {
    "collapsed": false
   }
  }
 ],
 "metadata": {
  "kernelspec": {
   "display_name": "Python 3",
   "language": "python",
   "name": "python3"
  },
  "language_info": {
   "codemirror_mode": {
    "name": "ipython",
    "version": 2
   },
   "file_extension": ".py",
   "mimetype": "text/x-python",
   "name": "python",
   "nbconvert_exporter": "python",
   "pygments_lexer": "ipython2",
   "version": "2.7.6"
  }
 },
 "nbformat": 4,
 "nbformat_minor": 0
}
