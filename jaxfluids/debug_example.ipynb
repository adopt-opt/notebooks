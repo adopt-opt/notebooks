{
 "cells": [
  {
   "cell_type": "markdown",
   "source": [
    "# Working with Jaxfluids\n",
    "\n",
    "(Introductory) notebook on working with [Jaxfluids](https://github.com/adopt-opt/jaxfluids) in the context of design optimization. For installation instructions of the underlying JAX package, please see their [GitHub repository](https://github.com/google/jax)."
   ],
   "metadata": {
    "collapsed": false
   }
  },
  {
   "cell_type": "markdown",
   "source": [
    "## Manipulation of JSON\n",
    "\n",
    "For the manipulation of the JSON files we want to use [PyJSON](https://github.com/niyoh120/pyjson), with which we can then alter the entries of our JSON files."
   ],
   "metadata": {
    "collapsed": false
   }
  },
  {
   "cell_type": "code",
   "execution_count": 4,
   "outputs": [],
   "source": [
    "import pyjson\n",
    "import json"
   ],
   "metadata": {
    "collapsed": false
   }
  },
  {
   "cell_type": "markdown",
   "source": [
    "Storing the path to our two most important JSON files into variables"
   ],
   "metadata": {
    "collapsed": false
   }
  },
  {
   "cell_type": "code",
   "execution_count": 27,
   "outputs": [],
   "source": [
    "case_setup = './cylinderflow.json'\n",
    "num_setup = './numerical_setup.json'"
   ],
   "metadata": {
    "collapsed": false
   }
  },
  {
   "cell_type": "markdown",
   "source": [
    "Altering the JSON file"
   ],
   "metadata": {
    "collapsed": false
   }
  },
  {
   "cell_type": "code",
   "execution_count": 26,
   "outputs": [],
   "source": [
    "jsonFile = open(case_setup, \"r\") # Open the JSON file for reading\n",
    "setup = json.load(jsonFile) # Read the JSON into the buffer\n",
    "jsonFile.close() # Close the JSON file\n",
    "\n",
    "## Working with buffered content\n",
    "setup[\"domain\"][\"x\"][\"cells\"] = 75\n",
    "setup[\"domain\"][\"x\"][\"range\"] = [-2, 4]\n",
    "setup[\"domain\"][\"y\"][\"cells\"] = 50\n",
    "setup[\"domain\"][\"y\"][\"range\"] = [-2, 2]\n",
    "\n",
    "## Save our changes to JSON file\n",
    "jsonFile = open(case_setup, \"w+\")\n",
    "jsonFile.write(json.dumps(setup))\n",
    "jsonFile.close()"
   ],
   "metadata": {
    "collapsed": false
   }
  },
  {
   "cell_type": "markdown",
   "source": [
    "The same approach can be replicated for other tasks such as changing the lambda function determining the shape of the body inside of the domain for design optimization purposes\n",
    "\n",
    "```json\n",
    "{\n",
    "\"initial_condition\": {\n",
    "        \"primes\":{\n",
    "            \"rho\": 1.0,\n",
    "            \"u\": 0.0,\n",
    "            \"v\": 0.0,\n",
    "            \"w\": 0.0,\n",
    "            \"p\": 1.0\n",
    "        },\n",
    "        \"levelset\": \"lambda x,y: - 0.1 + jnp.sqrt(x**2 + y**2)\"\n",
    "    }\n",
    "}\n",
    "```"
   ],
   "metadata": {
    "collapsed": false
   }
  },
  {
   "cell_type": "markdown",
   "source": [
    "## Ahead-of-Time (AOT) Compilation with JAX"
   ],
   "metadata": {
    "collapsed": false
   }
  },
  {
   "cell_type": "code",
   "execution_count": null,
   "outputs": [],
   "source": [],
   "metadata": {
    "collapsed": false
   }
  },
  {
   "cell_type": "code",
   "execution_count": null,
   "outputs": [],
   "source": [],
   "metadata": {
    "collapsed": false
   }
  },
  {
   "cell_type": "markdown",
   "source": [
    "## Batch Evaluation with AOT'd Kernels"
   ],
   "metadata": {
    "collapsed": false
   }
  },
  {
   "cell_type": "code",
   "execution_count": null,
   "outputs": [],
   "source": [],
   "metadata": {
    "collapsed": false
   }
  }
 ],
 "metadata": {
  "kernelspec": {
   "display_name": "Python 3",
   "language": "python",
   "name": "python3"
  },
  "language_info": {
   "codemirror_mode": {
    "name": "ipython",
    "version": 2
   },
   "file_extension": ".py",
   "mimetype": "text/x-python",
   "name": "python",
   "nbconvert_exporter": "python",
   "pygments_lexer": "ipython2",
   "version": "2.7.6"
  }
 },
 "nbformat": 4,
 "nbformat_minor": 0
}
